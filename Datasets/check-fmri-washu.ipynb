{
 "cells": [
  {
   "cell_type": "markdown",
   "metadata": {},
   "source": [
    "## Check fMRI Datasets\n",
    "\n",
    "OpenNeuro is an platform sharing open datasets in neuroscience. The complete WashU fMRI dataset can be found at https://openneuro.org/datasets/ds000243/versions/00001. \n"
   ]
  },
  {
   "cell_type": "markdown",
   "metadata": {},
   "source": [
    "Load packages."
   ]
  },
  {
   "cell_type": "code",
   "execution_count": 3,
   "metadata": {},
   "outputs": [],
   "source": [
    "from nilearn import datasets, image, maskers\n",
    "from nilearn.maskers import NiftiLabelsMasker  # for ROI time-series extraction\n",
    "import nibabel as nib\n",
    "import matplotlib.pyplot as plt\n",
    "import numpy as np\n",
    "import pandas as pd"
   ]
  },
  {
   "cell_type": "markdown",
   "metadata": {},
   "source": [
    "Download a Desikan-Killiany brain atlas."
   ]
  },
  {
   "cell_type": "code",
   "execution_count": null,
   "metadata": {},
   "outputs": [],
   "source": [
    "import urllib.request\n",
    "\n",
    "# URL for Desikan-Killiany atlas in MNI152 space (1x1x1 mm resolution)\n",
    "atlas_url = \"https://github.com/neurodata/neuroparc/raw/master/atlases/label/Human/Desikan_space-MNI152NLin6_res-1x1x1.nii.gz\"\n",
    "atlas_path = \"Desikan_Killiany_68.nii.gz\"\n",
    "urllib.request.urlretrieve(atlas_url, atlas_path)\n",
    "print(\"Atlas downloaded to:\", atlas_path)"
   ]
  },
  {
   "cell_type": "markdown",
   "metadata": {},
   "source": [
    "Load the fMRI dataset."
   ]
  },
  {
   "cell_type": "code",
   "execution_count": null,
   "metadata": {},
   "outputs": [
    {
     "name": "stdout",
     "output_type": "stream",
     "text": [
      "fMRI data shape (x, y, z, time): (64, 64, 32, 480)\n"
     ]
    }
   ],
   "source": [
    "fmri_path = \"washu_mri/sub-001_task-rest_run-1_bold.nii.gz\"  # path to your 4D fMRI NIfTI file\n",
    "fmri_img = nib.load(fmri_path)\n",
    "fmri_data = fmri_img.get_fdata()\n",
    "print(\"fMRI data shape (x, y, z, time):\", fmri_img.shape)\n"
   ]
  },
  {
   "cell_type": "markdown",
   "metadata": {},
   "source": [
    "Compute the region-averaged fMRI signals."
   ]
  },
  {
   "cell_type": "code",
   "execution_count": null,
   "metadata": {},
   "outputs": [],
   "source": [
    "# Create a masker for the atlas\n",
    "masker = NiftiLabelsMasker(labels_img=atlas_path, \n",
    "                           standardize=False,  # set True to z-score each time series if desired\n",
    "                           smoothing_fwhm=None  # e.g., set to 6.0 for 6mm spatial smoothing\n",
    "                          )\n",
    "\n",
    "# Extract the mean time series for each atlas region\n",
    "time_series = masker.fit_transform(fmri_path)\n",
    "print(\"Time series array shape:\", time_series.shape)\n",
    "\n",
    "# If you have a list of region names corresponding to the 68 labels:\n",
    "region_names = [f\"Region_{i}\" for i in range(1, time_series.shape[1]+1)]\n",
    "# Create DataFrame and save to CSV\n",
    "df = pd.DataFrame(time_series, columns=region_names)\n",
    "df.to_csv(\"washu_mri/Desikan68_timeseries.csv\", index=False)"
   ]
  }
 ],
 "metadata": {
  "kernelspec": {
   "display_name": "neuro",
   "language": "python",
   "name": "python3"
  },
  "language_info": {
   "codemirror_mode": {
    "name": "ipython",
    "version": 3
   },
   "file_extension": ".py",
   "mimetype": "text/x-python",
   "name": "python",
   "nbconvert_exporter": "python",
   "pygments_lexer": "ipython3",
   "version": "3.12.9"
  }
 },
 "nbformat": 4,
 "nbformat_minor": 2
}
